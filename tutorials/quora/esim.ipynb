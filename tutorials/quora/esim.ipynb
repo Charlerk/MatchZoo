{
 "cells": [
  {
   "cell_type": "code",
   "execution_count": 1,
   "metadata": {},
   "outputs": [
    {
     "output_type": "stream",
     "name": "stdout",
     "text": [
      "matchzoo version 2.2.0\n",
      "\n",
      "data loading ...\n",
      "data loaded as `train_pack_raw` `dev_pack_raw` `test_pack_raw`\n",
      "`ranking_task` initialized with metrics [normalized_discounted_cumulative_gain@3(0.0), normalized_discounted_cumulative_gain@5(0.0), mean_average_precision(0.0)]\n",
      "loading embedding ...\n",
      "embedding loaded as `glove_embedding`\n"
     ]
    }
   ],
   "source": [
    "%run ../wikiqa/init.ipynb"
   ]
  },
  {
   "cell_type": "code",
   "execution_count": 2,
   "metadata": {},
   "outputs": [],
   "source": [
    "import numpy as np\n",
    "import pandas as pd\n",
    "from tensorflow.keras.optimizers import Adam\n",
    "from tensorflow.keras.utils import to_categorical\n",
    "\n",
    "import matchzoo as mz\n",
    "from matchzoo.contrib.models.esim import ESIM"
   ]
  },
  {
   "cell_type": "code",
   "execution_count": 3,
   "metadata": {},
   "outputs": [],
   "source": [
    "def load_filtered_data(preprocessor, data_type):\n",
    "    assert ( data_type in ['train', 'dev', 'test'])\n",
    "    data_pack = mz.datasets.wiki_qa.load_data(data_type, task='ranking')\n",
    "\n",
    "    if data_type == 'train':\n",
    "        X, Y = preprocessor.fit_transform(data_pack).unpack()\n",
    "    else:\n",
    "        X, Y = preprocessor.transform(data_pack).unpack()\n",
    "\n",
    "    new_idx = []\n",
    "    for i in range(Y.shape[0]):\n",
    "        if X[\"length_left\"][i] == 0 or X[\"length_right\"][i] == 0:\n",
    "            continue\n",
    "        new_idx.append(i)\n",
    "    new_idx = np.array(new_idx)\n",
    "    print(\"Removed empty data. Found \", (Y.shape[0] - new_idx.shape[0]))\n",
    "\n",
    "    for k in X.keys():\n",
    "        X[k] = X[k][new_idx]\n",
    "    Y = Y[new_idx]\n",
    "\n",
    "    pos_idx = (Y == 1)[:, 0]\n",
    "    pos_qid = X[\"id_left\"][pos_idx]\n",
    "    keep_idx_bool = np.array([ qid in pos_qid for qid in X[\"id_left\"]])\n",
    "    keep_idx = np.arange(keep_idx_bool.shape[0])\n",
    "    keep_idx = keep_idx[keep_idx_bool]\n",
    "    print(\"Removed questions with no pos label. Found \", (keep_idx_bool == 0).sum())\n",
    "\n",
    "    print(\"shuffling...\")\n",
    "    np.random.shuffle(keep_idx)\n",
    "    for k in X.keys():\n",
    "        X[k] = X[k][keep_idx]\n",
    "    Y = Y[keep_idx]\n",
    "\n",
    "    return X, Y, preprocessor"
   ]
  },
  {
   "cell_type": "code",
   "execution_count": 4,
   "metadata": {},
   "outputs": [],
   "source": [
    "fixed_length_left = 10\n",
    "fixed_length_right = 40\n",
    "batch_size = 32\n",
    "epochs = 5"
   ]
  },
  {
   "cell_type": "code",
   "execution_count": 5,
   "metadata": {},
   "outputs": [
    {
     "output_type": "stream",
     "name": "stderr",
     "text": [
      "Processing text_left with chain_transform of Tokenize => Lowercase => PuncRemoval: 100%|██████████| 2118/2118 [00:00<00:00, 15326.69it/s]\n",
      "Processing text_right with chain_transform of Tokenize => Lowercase => PuncRemoval: 100%|██████████| 18841/18841 [00:02<00:00, 8165.72it/s]\n",
      "Processing text_right with append: 100%|██████████| 18841/18841 [00:00<00:00, 1527286.96it/s]\n",
      "Building FrequencyFilter from a datapack.: 100%|██████████| 18841/18841 [00:00<00:00, 265637.89it/s]\n",
      "Processing text_right with transform: 100%|██████████| 18841/18841 [00:00<00:00, 261620.68it/s]\n",
      "Processing text_left with extend: 100%|██████████| 2118/2118 [00:00<00:00, 1341316.00it/s]\n",
      "Processing text_right with extend: 100%|██████████| 18841/18841 [00:00<00:00, 1530481.50it/s]\n",
      "Building Vocabulary from a datapack.: 100%|██████████| 425518/425518 [00:00<00:00, 5865915.93it/s]\n",
      "Processing text_left with chain_transform of Tokenize => Lowercase => PuncRemoval: 100%|██████████| 2118/2118 [00:00<00:00, 14423.46it/s]\n",
      "Processing text_right with chain_transform of Tokenize => Lowercase => PuncRemoval: 100%|██████████| 18841/18841 [00:02<00:00, 8559.19it/s]\n",
      "Processing text_right with transform: 100%|██████████| 18841/18841 [00:00<00:00, 244893.36it/s]\n",
      "Processing text_left with transform: 100%|██████████| 2118/2118 [00:00<00:00, 479517.21it/s]\n",
      "Processing text_right with transform: 100%|██████████| 18841/18841 [00:00<00:00, 291331.67it/s]\n",
      "Processing length_left with len: 100%|██████████| 2118/2118 [00:00<00:00, 1406512.96it/s]\n",
      "Processing length_right with len: 100%|██████████| 18841/18841 [00:00<00:00, 1576399.00it/s]\n",
      "Processing text_left with transform: 100%|██████████| 2118/2118 [00:00<00:00, 186108.89it/s]\n",
      "Processing text_right with transform: 100%|██████████| 18841/18841 [00:00<00:00, 156746.57it/s]\n",
      "Removed empty data. Found  59\n",
      "Removed questions with no pos label. Found  11653\n",
      "shuffling...\n",
      "Processing text_left with chain_transform of Tokenize => Lowercase => PuncRemoval: 100%|██████████| 296/296 [00:00<00:00, 15702.84it/s]\n",
      "Processing text_right with chain_transform of Tokenize => Lowercase => PuncRemoval: 100%|██████████| 2708/2708 [00:00<00:00, 8553.83it/s]\n",
      "Processing text_right with transform: 100%|██████████| 2708/2708 [00:00<00:00, 226028.84it/s]\n",
      "Processing text_left with transform: 100%|██████████| 296/296 [00:00<00:00, 283385.98it/s]\n",
      "Processing text_right with transform: 100%|██████████| 2708/2708 [00:00<00:00, 302618.37it/s]\n",
      "Processing length_left with len: 100%|██████████| 296/296 [00:00<00:00, 670002.15it/s]\n",
      "Processing length_right with len: 100%|██████████| 2708/2708 [00:00<00:00, 1139921.24it/s]\n",
      "Processing text_left with transform: 100%|██████████| 296/296 [00:00<00:00, 166735.69it/s]\n",
      "Processing text_right with transform: 100%|██████████| 2708/2708 [00:00<00:00, 146818.53it/s]\n",
      "Removed empty data. Found  7\n",
      "Removed questions with no pos label. Found  1596\n",
      "shuffling...\n"
     ]
    }
   ],
   "source": [
    "# prepare data\n",
    "preprocessor = mz.preprocessors.BasicPreprocessor(fixed_length_left=fixed_length_left,\n",
    "                                                  fixed_length_right=fixed_length_right,\n",
    "                                                  remove_stop_words=False,\n",
    "                                                  filter_low_freq=10)\n",
    "\n",
    "train_X, train_Y, preprocessor = load_filtered_data(preprocessor, 'train')\n",
    "val_X, val_Y, _ = load_filtered_data(preprocessor, 'dev')\n",
    "pred_X, pred_Y = val_X, val_Y\n",
    "# pred_X, pred_Y, _ = load_filtered_data(preprocessor, 'test') # no prediction label for quora dataset\n",
    "\n",
    "embedding_matrix = glove_embedding.build_matrix(preprocessor.context['vocab_unit'].state['term_index'], initializer=lambda: 0)"
   ]
  },
  {
   "cell_type": "code",
   "execution_count": 6,
   "metadata": {
    "scrolled": true
   },
   "outputs": [
    {
     "output_type": "stream",
     "name": "stderr",
     "text": [
      "/home/songzy/.virtualenvs/matchzoo/lib/python3.8/site-packages/tensorflow/python/keras/optimizer_v2/optimizer_v2.py:374: UserWarning: The `lr` argument is deprecated, use `learning_rate` instead.\n",
      "  warnings.warn(\n",
      "Model: \"model\"\n",
      "__________________________________________________________________________________________________\n",
      "Layer (type)                    Output Shape         Param #     Connected to                     \n",
      "==================================================================================================\n",
      "text_left (InputLayer)          [(None, 10)]         0                                            \n",
      "__________________________________________________________________________________________________\n",
      "text_right (InputLayer)         [(None, 40)]         0                                            \n",
      "__________________________________________________________________________________________________\n",
      "embedding (Embedding)           multiple             1959300     text_left[0][0]                  \n",
      "                                                                 text_right[0][0]                 \n",
      "__________________________________________________________________________________________________\n",
      "dropout (Dropout)               multiple             0           embedding[0][0]                  \n",
      "                                                                 embedding[1][0]                  \n",
      "                                                                 dense[0][0]                      \n",
      "                                                                 dense[1][0]                      \n",
      "                                                                 dense_1[0][0]                    \n",
      "__________________________________________________________________________________________________\n",
      "lambda (Lambda)                 multiple             0           text_left[0][0]                  \n",
      "                                                                 text_right[0][0]                 \n",
      "__________________________________________________________________________________________________\n",
      "bidirectional (Bidirectional)   multiple             1442400     dropout[0][0]                    \n",
      "                                                                 dropout[1][0]                    \n",
      "__________________________________________________________________________________________________\n",
      "lambda_1 (Lambda)               (None, 10, 1)        0           lambda[0][0]                     \n",
      "__________________________________________________________________________________________________\n",
      "lambda_2 (Lambda)               (None, 40, 1)        0           lambda[1][0]                     \n",
      "__________________________________________________________________________________________________\n",
      "multiply (Multiply)             (None, 10, 600)      0           bidirectional[0][0]              \n",
      "                                                                 lambda_1[0][0]                   \n",
      "__________________________________________________________________________________________________\n",
      "multiply_1 (Multiply)           (None, 40, 600)      0           bidirectional[1][0]              \n",
      "                                                                 lambda_2[0][0]                   \n",
      "__________________________________________________________________________________________________\n",
      "lambda_3 (Lambda)               (None, 10, 1)        0           lambda[0][0]                     \n",
      "__________________________________________________________________________________________________\n",
      "lambda_4 (Lambda)               (None, 1, 40)        0           lambda[1][0]                     \n",
      "__________________________________________________________________________________________________\n",
      "dot (Dot)                       (None, 10, 40)       0           multiply[0][0]                   \n",
      "                                                                 multiply_1[0][0]                 \n",
      "__________________________________________________________________________________________________\n",
      "multiply_2 (Multiply)           (None, 10, 40)       0           lambda_3[0][0]                   \n",
      "                                                                 lambda_4[0][0]                   \n",
      "__________________________________________________________________________________________________\n",
      "permute (Permute)               (None, 40, 10)       0           dot[0][0]                        \n",
      "                                                                 multiply_2[0][0]                 \n",
      "__________________________________________________________________________________________________\n",
      "atten_mask (Lambda)             multiple             0           dot[0][0]                        \n",
      "                                                                 multiply_2[0][0]                 \n",
      "                                                                 permute[0][0]                    \n",
      "                                                                 permute[1][0]                    \n",
      "__________________________________________________________________________________________________\n",
      "softmax (Softmax)               multiple             0           atten_mask[0][0]                 \n",
      "                                                                 atten_mask[1][0]                 \n",
      "__________________________________________________________________________________________________\n",
      "dot_1 (Dot)                     (None, 10, 600)      0           softmax[0][0]                    \n",
      "                                                                 multiply_1[0][0]                 \n",
      "__________________________________________________________________________________________________\n",
      "dot_2 (Dot)                     (None, 40, 600)      0           softmax[1][0]                    \n",
      "                                                                 multiply[0][0]                   \n",
      "__________________________________________________________________________________________________\n",
      "subtract (Subtract)             (None, 10, 600)      0           multiply[0][0]                   \n",
      "                                                                 dot_1[0][0]                      \n",
      "__________________________________________________________________________________________________\n",
      "multiply_3 (Multiply)           (None, 10, 600)      0           multiply[0][0]                   \n",
      "                                                                 dot_1[0][0]                      \n",
      "__________________________________________________________________________________________________\n",
      "subtract_1 (Subtract)           (None, 40, 600)      0           multiply_1[0][0]                 \n",
      "                                                                 dot_2[0][0]                      \n",
      "__________________________________________________________________________________________________\n",
      "multiply_4 (Multiply)           (None, 40, 600)      0           multiply_1[0][0]                 \n",
      "                                                                 dot_2[0][0]                      \n",
      "__________________________________________________________________________________________________\n",
      "concatenate (Concatenate)       (None, 10, 2400)     0           multiply[0][0]                   \n",
      "                                                                 dot_1[0][0]                      \n",
      "                                                                 subtract[0][0]                   \n",
      "                                                                 multiply_3[0][0]                 \n",
      "__________________________________________________________________________________________________\n",
      "concatenate_1 (Concatenate)     (None, 40, 2400)     0           multiply_1[0][0]                 \n",
      "                                                                 dot_2[0][0]                      \n",
      "                                                                 subtract_1[0][0]                 \n",
      "                                                                 multiply_4[0][0]                 \n",
      "__________________________________________________________________________________________________\n",
      "dense (Dense)                   multiple             720300      concatenate[0][0]                \n",
      "                                                                 concatenate_1[0][0]              \n",
      "__________________________________________________________________________________________________\n",
      "bidirectional_1 (Bidirectional) multiple             1442400     dropout[2][0]                    \n",
      "                                                                 dropout[3][0]                    \n",
      "__________________________________________________________________________________________________\n",
      "lambda_5 (Lambda)               (None, 10, 1)        0           lambda[0][0]                     \n",
      "__________________________________________________________________________________________________\n",
      "lambda_7 (Lambda)               (None, 10, 1)        0           lambda[0][0]                     \n",
      "__________________________________________________________________________________________________\n",
      "lambda_9 (Lambda)               (None, 40, 1)        0           lambda[1][0]                     \n",
      "__________________________________________________________________________________________________\n",
      "lambda_11 (Lambda)              (None, 40, 1)        0           lambda[1][0]                     \n",
      "__________________________________________________________________________________________________\n",
      "multiply_5 (Multiply)           (None, 10, 600)      0           bidirectional_1[0][0]            \n",
      "                                                                 lambda_5[0][0]                   \n",
      "__________________________________________________________________________________________________\n",
      "multiply_6 (Multiply)           (None, 10, 600)      0           bidirectional_1[0][0]            \n",
      "                                                                 lambda_7[0][0]                   \n",
      "__________________________________________________________________________________________________\n",
      "multiply_7 (Multiply)           (None, 40, 600)      0           bidirectional_1[1][0]            \n",
      "                                                                 lambda_9[0][0]                   \n",
      "__________________________________________________________________________________________________\n",
      "multiply_8 (Multiply)           (None, 40, 600)      0           bidirectional_1[1][0]            \n",
      "                                                                 lambda_11[0][0]                  \n",
      "__________________________________________________________________________________________________\n",
      "lambda_6 (Lambda)               (None, 600)          0           multiply_5[0][0]                 \n",
      "                                                                 lambda_5[0][0]                   \n",
      "__________________________________________________________________________________________________\n",
      "lambda_8 (Lambda)               (None, 600)          0           multiply_6[0][0]                 \n",
      "__________________________________________________________________________________________________\n",
      "lambda_10 (Lambda)              (None, 600)          0           multiply_7[0][0]                 \n",
      "                                                                 lambda_9[0][0]                   \n",
      "__________________________________________________________________________________________________\n",
      "lambda_12 (Lambda)              (None, 600)          0           multiply_8[0][0]                 \n",
      "__________________________________________________________________________________________________\n",
      "concatenate_2 (Concatenate)     (None, 1200)         0           lambda_6[0][0]                   \n",
      "                                                                 lambda_8[0][0]                   \n",
      "__________________________________________________________________________________________________\n",
      "concatenate_3 (Concatenate)     (None, 1200)         0           lambda_10[0][0]                  \n",
      "                                                                 lambda_12[0][0]                  \n",
      "__________________________________________________________________________________________________\n",
      "concatenate_4 (Concatenate)     (None, 2400)         0           concatenate_2[0][0]              \n",
      "                                                                 concatenate_3[0][0]              \n",
      "__________________________________________________________________________________________________\n",
      "dense_1 (Dense)                 (None, 300)          720300      concatenate_4[0][0]              \n",
      "__________________________________________________________________________________________________\n",
      "dense_2 (Dense)                 (None, 1)            301         dropout[4][0]                    \n",
      "==================================================================================================\n",
      "Total params: 6,285,001\n",
      "Trainable params: 4,325,701\n",
      "Non-trainable params: 1,959,300\n",
      "__________________________________________________________________________________________________\n"
     ]
    }
   ],
   "source": [
    "model = ESIM()\n",
    "model.params['task'] = mz.tasks.Ranking()\n",
    "model.params['mask_value'] = 0\n",
    "model.params['input_shapes'] = [[fixed_length_left, ],\n",
    "                                [fixed_length_right, ]]\n",
    "model.params['lstm_dim'] = 300\n",
    "model.params['embedding_input_dim'] = preprocessor.context['vocab_size']\n",
    "model.params['embedding_output_dim'] = 300\n",
    "model.params['embedding_trainable'] = False\n",
    "model.params['dropout_rate'] = 0.5\n",
    "\n",
    "model.params['mlp_num_units'] = 300\n",
    "model.params['mlp_num_layers'] = 0\n",
    "model.params['mlp_num_fan_out'] = 300\n",
    "model.params['mlp_activation_func'] = 'tanh'\n",
    "model.params['optimizer'] = Adam(lr=4e-4)\n",
    "\n",
    "model.guess_and_fill_missing_params()\n",
    "model.build()\n",
    "\n",
    "model.compile()\n",
    "model.backend.summary() # not visualize"
   ]
  },
  {
   "cell_type": "code",
   "execution_count": 7,
   "metadata": {},
   "outputs": [
    {
     "output_type": "stream",
     "name": "stdout",
     "text": [
      "Epoch 1/5\n",
      "271/271 [==============================] - ETA: 0s - loss: 0.1059/home/songzy/.virtualenvs/matchzoo/lib/python3.8/site-packages/tensorflow/python/keras/engine/functional.py:588: UserWarning: Input dict contained keys ['id_left', 'length_left', 'id_right', 'length_right'] which did not match any model input. They will be ignored by the model.\n",
      "  warnings.warn(\n",
      "271/271 [==============================] - 68s 229ms/step - loss: 0.1059 - val_loss: 0.0952\n",
      "Validation: mean_average_precision(0.0): 0.6286666265832934\n",
      "Epoch 2/5\n",
      "271/271 [==============================] - 64s 235ms/step - loss: 0.0970 - val_loss: 0.0915\n",
      "Validation: mean_average_precision(0.0): 0.6482657107695167\n",
      "Epoch 3/5\n",
      "271/271 [==============================] - 66s 245ms/step - loss: 0.0938 - val_loss: 0.0901\n",
      "Validation: mean_average_precision(0.0): 0.6532234442598588\n",
      "Epoch 4/5\n",
      "271/271 [==============================] - 60s 222ms/step - loss: 0.0910 - val_loss: 0.1005\n",
      "Validation: mean_average_precision(0.0): 0.6700394214925026\n",
      "Epoch 5/5\n",
      "271/271 [==============================] - 60s 222ms/step - loss: 0.0865 - val_loss: 0.0961\n",
      "Validation: mean_average_precision(0.0): 0.66453279231057\n"
     ]
    }
   ],
   "source": [
    "# run as classification task\n",
    "model.load_embedding_matrix(embedding_matrix)\n",
    "evaluate = mz.callbacks.EvaluateAllMetrics(model,\n",
    "                                           x=pred_X,\n",
    "                                           y=pred_Y,\n",
    "                                           once_every=1,\n",
    "                                           batch_size=len(pred_Y))\n",
    "\n",
    "history = model.fit(x = [train_X['text_left'],\n",
    "                         train_X['text_right']],\n",
    "                    y = train_Y,\n",
    "                    validation_data = (val_X, val_Y),\n",
    "                    batch_size = batch_size,\n",
    "                    epochs = epochs,\n",
    "                    callbacks=[evaluate]\n",
    "                    )"
   ]
  },
  {
   "cell_type": "code",
   "execution_count": 8,
   "metadata": {
    "scrolled": false
   },
   "outputs": [
    {
     "output_type": "stream",
     "name": "stdout",
     "text": [
      "Model: \"model_1\"\n__________________________________________________________________________________________________\nLayer (type)                    Output Shape         Param #     Connected to                     \n==================================================================================================\ntext_left (InputLayer)          [(None, 10)]         0                                            \n__________________________________________________________________________________________________\ntext_right (InputLayer)         [(None, 40)]         0                                            \n__________________________________________________________________________________________________\nembedding (Embedding)           multiple             1959300     text_left[0][0]                  \n                                                                 text_right[0][0]                 \n__________________________________________________________________________________________________\ndropout_1 (Dropout)             multiple             0           embedding[0][0]                  \n                                                                 embedding[1][0]                  \n                                                                 dense_3[0][0]                    \n                                                                 dense_3[1][0]                    \n                                                                 dense_4[0][0]                    \n__________________________________________________________________________________________________\nlambda_13 (Lambda)              multiple             0           text_left[0][0]                  \n                                                                 text_right[0][0]                 \n__________________________________________________________________________________________________\nbidirectional_2 (Bidirectional) multiple             1442400     dropout_1[0][0]                  \n                                                                 dropout_1[1][0]                  \n__________________________________________________________________________________________________\nlambda_14 (Lambda)              (None, 10, 1)        0           lambda_13[0][0]                  \n__________________________________________________________________________________________________\nlambda_15 (Lambda)              (None, 40, 1)        0           lambda_13[1][0]                  \n__________________________________________________________________________________________________\nmultiply_9 (Multiply)           (None, 10, 600)      0           bidirectional_2[0][0]            \n                                                                 lambda_14[0][0]                  \n__________________________________________________________________________________________________\nmultiply_10 (Multiply)          (None, 40, 600)      0           bidirectional_2[1][0]            \n                                                                 lambda_15[0][0]                  \n__________________________________________________________________________________________________\nlambda_16 (Lambda)              (None, 10, 1)        0           lambda_13[0][0]                  \n__________________________________________________________________________________________________\nlambda_17 (Lambda)              (None, 1, 40)        0           lambda_13[1][0]                  \n__________________________________________________________________________________________________\ndot_3 (Dot)                     (None, 10, 40)       0           multiply_9[0][0]                 \n                                                                 multiply_10[0][0]                \n__________________________________________________________________________________________________\nmultiply_11 (Multiply)          (None, 10, 40)       0           lambda_16[0][0]                  \n                                                                 lambda_17[0][0]                  \n__________________________________________________________________________________________________\npermute_1 (Permute)             (None, 40, 10)       0           dot_3[0][0]                      \n                                                                 multiply_11[0][0]                \n__________________________________________________________________________________________________\natten_mask (Lambda)             multiple             0           dot_3[0][0]                      \n                                                                 multiply_11[0][0]                \n                                                                 permute_1[0][0]                  \n                                                                 permute_1[1][0]                  \n__________________________________________________________________________________________________\nsoftmax_1 (Softmax)             multiple             0           atten_mask[0][0]                 \n                                                                 atten_mask[1][0]                 \n__________________________________________________________________________________________________\ndot_4 (Dot)                     (None, 10, 600)      0           softmax_1[0][0]                  \n                                                                 multiply_10[0][0]                \n__________________________________________________________________________________________________\ndot_5 (Dot)                     (None, 40, 600)      0           softmax_1[1][0]                  \n                                                                 multiply_9[0][0]                 \n__________________________________________________________________________________________________\nsubtract_2 (Subtract)           (None, 10, 600)      0           multiply_9[0][0]                 \n                                                                 dot_4[0][0]                      \n__________________________________________________________________________________________________\nmultiply_12 (Multiply)          (None, 10, 600)      0           multiply_9[0][0]                 \n                                                                 dot_4[0][0]                      \n__________________________________________________________________________________________________\nsubtract_3 (Subtract)           (None, 40, 600)      0           multiply_10[0][0]                \n                                                                 dot_5[0][0]                      \n__________________________________________________________________________________________________\nmultiply_13 (Multiply)          (None, 40, 600)      0           multiply_10[0][0]                \n                                                                 dot_5[0][0]                      \n__________________________________________________________________________________________________\nconcatenate_5 (Concatenate)     (None, 10, 2400)     0           multiply_9[0][0]                 \n                                                                 dot_4[0][0]                      \n                                                                 subtract_2[0][0]                 \n                                                                 multiply_12[0][0]                \n__________________________________________________________________________________________________\nconcatenate_6 (Concatenate)     (None, 40, 2400)     0           multiply_10[0][0]                \n                                                                 dot_5[0][0]                      \n                                                                 subtract_3[0][0]                 \n                                                                 multiply_13[0][0]                \n__________________________________________________________________________________________________\ndense_3 (Dense)                 multiple             720300      concatenate_5[0][0]              \n                                                                 concatenate_6[0][0]              \n__________________________________________________________________________________________________\nbidirectional_3 (Bidirectional) multiple             1442400     dropout_1[2][0]                  \n                                                                 dropout_1[3][0]                  \n__________________________________________________________________________________________________\nlambda_18 (Lambda)              (None, 10, 1)        0           lambda_13[0][0]                  \n__________________________________________________________________________________________________\nlambda_20 (Lambda)              (None, 10, 1)        0           lambda_13[0][0]                  \n__________________________________________________________________________________________________\nlambda_22 (Lambda)              (None, 40, 1)        0           lambda_13[1][0]                  \n__________________________________________________________________________________________________\nlambda_24 (Lambda)              (None, 40, 1)        0           lambda_13[1][0]                  \n__________________________________________________________________________________________________\nmultiply_14 (Multiply)          (None, 10, 600)      0           bidirectional_3[0][0]            \n                                                                 lambda_18[0][0]                  \n__________________________________________________________________________________________________\nmultiply_15 (Multiply)          (None, 10, 600)      0           bidirectional_3[0][0]            \n                                                                 lambda_20[0][0]                  \n__________________________________________________________________________________________________\nmultiply_16 (Multiply)          (None, 40, 600)      0           bidirectional_3[1][0]            \n                                                                 lambda_22[0][0]                  \n__________________________________________________________________________________________________\nmultiply_17 (Multiply)          (None, 40, 600)      0           bidirectional_3[1][0]            \n                                                                 lambda_24[0][0]                  \n__________________________________________________________________________________________________\nlambda_19 (Lambda)              (None, 600)          0           multiply_14[0][0]                \n                                                                 lambda_18[0][0]                  \n__________________________________________________________________________________________________\nlambda_21 (Lambda)              (None, 600)          0           multiply_15[0][0]                \n__________________________________________________________________________________________________\nlambda_23 (Lambda)              (None, 600)          0           multiply_16[0][0]                \n                                                                 lambda_22[0][0]                  \n__________________________________________________________________________________________________\nlambda_25 (Lambda)              (None, 600)          0           multiply_17[0][0]                \n__________________________________________________________________________________________________\nconcatenate_7 (Concatenate)     (None, 1200)         0           lambda_19[0][0]                  \n                                                                 lambda_21[0][0]                  \n__________________________________________________________________________________________________\nconcatenate_8 (Concatenate)     (None, 1200)         0           lambda_23[0][0]                  \n                                                                 lambda_25[0][0]                  \n__________________________________________________________________________________________________\nconcatenate_9 (Concatenate)     (None, 2400)         0           concatenate_7[0][0]              \n                                                                 concatenate_8[0][0]              \n__________________________________________________________________________________________________\ndense_4 (Dense)                 (None, 300)          720300      concatenate_9[0][0]              \n__________________________________________________________________________________________________\ndense_5 (Dense)                 (None, 2)            602         dropout_1[4][0]                  \n==================================================================================================\nTotal params: 6,285,302\nTrainable params: 4,326,002\nNon-trainable params: 1,959,300\n__________________________________________________________________________________________________\n"
     ]
    }
   ],
   "source": [
    "# run as classification task\n",
    "classification_task = mz.tasks.Classification(num_classes=2)\n",
    "classification_task.metrics = 'acc'\n",
    "\n",
    "model = ESIM()\n",
    "model.params['task'] = classification_task\n",
    "model.params['mask_value'] = 0\n",
    "model.params['input_shapes'] = [[fixed_length_left, ],\n",
    "                                [fixed_length_right, ]]\n",
    "model.params['lstm_dim'] = 300\n",
    "model.params['embedding_input_dim'] = preprocessor.context['vocab_size']\n",
    "model.params['embedding_output_dim'] = 300\n",
    "model.params['embedding_trainable'] = False\n",
    "model.params['dropout_rate'] = 0.5\n",
    "\n",
    "model.params['mlp_num_units'] = 300\n",
    "model.params['mlp_num_layers'] = 0\n",
    "model.params['mlp_num_fan_out'] = 300\n",
    "model.params['mlp_activation_func'] = 'tanh'\n",
    "model.params['optimizer'] = Adam(lr=4e-4)\n",
    "\n",
    "model.guess_and_fill_missing_params()\n",
    "model.build()\n",
    "\n",
    "model.compile()\n",
    "model.backend.summary() # not visualize"
   ]
  },
  {
   "cell_type": "code",
   "execution_count": 9,
   "metadata": {},
   "outputs": [
    {
     "output_type": "stream",
     "name": "stdout",
     "text": [
      "Epoch 1/5\n",
      "271/271 [==============================] - 67s 224ms/step - loss: 0.3606 - val_loss: 0.3333\n",
      "Validation: categorical_accuracy: 0.9884955883026123\n",
      "Epoch 2/5\n",
      "271/271 [==============================] - 61s 224ms/step - loss: 0.3266 - val_loss: 0.3345\n",
      "Validation: categorical_accuracy: 0.9707964658737183\n",
      "Epoch 3/5\n",
      "271/271 [==============================] - 60s 223ms/step - loss: 0.3115 - val_loss: 0.3603\n",
      "Validation: categorical_accuracy: 0.9592920541763306\n",
      "Epoch 4/5\n",
      "271/271 [==============================] - 60s 220ms/step - loss: 0.2952 - val_loss: 0.3779\n",
      "Validation: categorical_accuracy: 0.8716813921928406\n",
      "Epoch 5/5\n",
      "271/271 [==============================] - 60s 221ms/step - loss: 0.2833 - val_loss: 0.3188\n",
      "Validation: categorical_accuracy: 0.9601770043373108\n"
     ]
    }
   ],
   "source": [
    "evaluate = mz.callbacks.EvaluateAllMetrics(model,\n",
    "                                           x=pred_X,\n",
    "                                           y=pred_Y,\n",
    "                                           once_every=1,\n",
    "                                           batch_size=len(pred_Y))\n",
    "\n",
    "train_Y = to_categorical(train_Y)\n",
    "val_Y = to_categorical(val_Y)\n",
    "\n",
    "model.load_embedding_matrix(embedding_matrix)\n",
    "history = model.fit(x = [train_X['text_left'],\n",
    "                         train_X['text_right']],\n",
    "                    y = train_Y,\n",
    "                    validation_data = (val_X, val_Y),\n",
    "                    batch_size = batch_size,\n",
    "                    epochs = epochs,\n",
    "                    callbacks=[evaluate]\n",
    "                    )"
   ]
  },
  {
   "cell_type": "code",
   "execution_count": 10,
   "metadata": {},
   "outputs": [
    {
     "output_type": "execute_result",
     "data": {
      "text/plain": [
       "{'categorical_accuracy': 0.8929204}"
      ]
     },
     "metadata": {},
     "execution_count": 10
    }
   ],
   "source": [
    "model.evaluate(val_X, val_Y)"
   ]
  }
 ],
 "metadata": {
  "kernelspec": {
   "name": "python385jvsc74a57bd08db9941e9a16e5787794ffd9f19dc67a72cfb8d60ffcfef922ae5bba5cf90205",
   "display_name": "Python 3.8.5 64-bit ('matchzoo': virtualenvwrapper)"
  },
  "language_info": {
   "codemirror_mode": {
    "name": "ipython",
    "version": 3
   },
   "file_extension": ".py",
   "mimetype": "text/x-python",
   "name": "python",
   "nbconvert_exporter": "python",
   "pygments_lexer": "ipython3",
   "version": "3.8.5"
  },
  "metadata": {
   "interpreter": {
    "hash": "f915cafd40f83be368951318b9c54658a7e141ef1b8c160c3ab97d9cb17b896d"
   }
  }
 },
 "nbformat": 4,
 "nbformat_minor": 2
}